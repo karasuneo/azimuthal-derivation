{
 "cells": [
  {
   "cell_type": "code",
   "execution_count": 8,
   "metadata": {},
   "outputs": [
    {
     "name": "stdout",
     "output_type": "stream",
     "text": [
      "回転角度 (degrees): [1.2 2.7 4.5 6.5]\n"
     ]
    }
   ],
   "source": [
    "import numpy as np\n",
    "\n",
    "\n",
    "def calculate_rotation(gyro_data, time_interval):\n",
    "    # gyro_data: ジャイロセンサから得られる角速度のデータ (degrees per second)\n",
    "    # time_interval: データの取得間隔 (秒)\n",
    "\n",
    "    # 積分して角度を計算する\n",
    "    angle = np.cumsum(gyro_data) * time_interval\n",
    "\n",
    "    return angle\n",
    "\n",
    "\n",
    "# ジャイロセンサのデータと時間間隔を例として設定する\n",
    "gyro_data = [1.2, 1.5, 1.8, 2.0]  # 仮の角速度データ (例: degrees per second)\n",
    "time_interval = 1  # データの取得間隔 (秒)\n",
    "\n",
    "# 角度の計算\n",
    "rotation_angle = calculate_rotation(gyro_data, time_interval)\n",
    "\n",
    "print(\"回転角度 (degrees):\", rotation_angle)"
   ]
  },
  {
   "cell_type": "markdown",
   "metadata": {},
   "source": []
  }
 ],
 "metadata": {
  "kernelspec": {
   "display_name": "azimuthal-derivation-MCJz-TJE",
   "language": "python",
   "name": "python3"
  },
  "language_info": {
   "codemirror_mode": {
    "name": "ipython",
    "version": 3
   },
   "file_extension": ".py",
   "mimetype": "text/x-python",
   "name": "python",
   "nbconvert_exporter": "python",
   "pygments_lexer": "ipython3",
   "version": "3.11.5"
  }
 },
 "nbformat": 4,
 "nbformat_minor": 2
}
